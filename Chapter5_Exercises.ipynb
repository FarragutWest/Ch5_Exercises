{
 "cells": [
  {
   "cell_type": "code",
   "execution_count": 2,
   "metadata": {},
   "outputs": [
    {
     "name": "stdout",
     "output_type": "stream",
     "text": [
      "this is my car\n",
      "Audi\n",
      "Ford\n",
      "Honda\n"
     ]
    }
   ],
   "source": [
    "cars=['bmw','audi','ford','honda']\n",
    "for car in cars:\n",
    "    if car=='bmw':\n",
    "        print('this is my car')\n",
    "    else:\n",
    "        print(car.title())\n",
    "        "
   ]
  },
  {
   "cell_type": "code",
   "execution_count": 3,
   "metadata": {},
   "outputs": [
    {
     "data": {
      "text/plain": [
       "False"
      ]
     },
     "execution_count": 3,
     "metadata": {},
     "output_type": "execute_result"
    }
   ],
   "source": [
    "car='bmw'\n",
    "car=='BMW'"
   ]
  },
  {
   "cell_type": "code",
   "execution_count": 5,
   "metadata": {},
   "outputs": [
    {
     "data": {
      "text/plain": [
       "True"
      ]
     },
     "execution_count": 5,
     "metadata": {},
     "output_type": "execute_result"
    }
   ],
   "source": [
    "car='bmw'\n",
    "car.upper()=='BMW'"
   ]
  },
  {
   "cell_type": "code",
   "execution_count": 9,
   "metadata": {},
   "outputs": [],
   "source": [
    "alien_color='green'\n",
    "if alien_color!='green':\n",
    "    print('You earned 5 points')\n",
    "    "
   ]
  },
  {
   "cell_type": "code",
   "execution_count": 11,
   "metadata": {},
   "outputs": [
    {
     "name": "stdout",
     "output_type": "stream",
     "text": [
      "You earned 5 points\n"
     ]
    }
   ],
   "source": [
    "alien_color='green'\n",
    "if alien_color=='green':\n",
    "    print('You earned 5 points')"
   ]
  },
  {
   "cell_type": "code",
   "execution_count": 14,
   "metadata": {},
   "outputs": [
    {
     "name": "stdout",
     "output_type": "stream",
     "text": [
      "you earned 10 points\n"
     ]
    }
   ],
   "source": [
    "alien_color='yellow'\n",
    "if alien_color==\"green\":\n",
    "    print('you earned 5 points')\n",
    "else:\n",
    "    print('you earned 10 points')"
   ]
  },
  {
   "cell_type": "code",
   "execution_count": 15,
   "metadata": {},
   "outputs": [
    {
     "name": "stdout",
     "output_type": "stream",
     "text": [
      "you earned 10 points\n"
     ]
    }
   ],
   "source": [
    "alien_color='yellow'\n",
    "if alien_color==\"green\":\n",
    "    print('you earned 5 points')\n",
    "elif alien_color=='yellow':\n",
    "    print('you earned 10 points')\n",
    "else:\n",
    "    print('you earned nothing')"
   ]
  },
  {
   "cell_type": "code",
   "execution_count": 17,
   "metadata": {},
   "outputs": [
    {
     "name": "stdout",
     "output_type": "stream",
     "text": [
      "the person is an adult\n"
     ]
    }
   ],
   "source": [
    "var_age=36\n",
    "if var_age<2:\n",
    "    print('the person is a baby')\n",
    "if var_age>=2 and var_age<4:\n",
    "    print('the person is a toddler')\n",
    "if var_age>=4 and var_age<13:\n",
    "    print('the person is a kid')\n",
    "if var_age>=13 and var_age<20:\n",
    "    print('the person is a teenager')\n",
    "if var_age>=20 and var_age<65:\n",
    "    print('the person is an adult')\n",
    "if var_age>=65:\n",
    "    print('the person is an elder')"
   ]
  },
  {
   "cell_type": "code",
   "execution_count": 19,
   "metadata": {},
   "outputs": [
    {
     "name": "stdout",
     "output_type": "stream",
     "text": [
      "you really like apples\n"
     ]
    }
   ],
   "source": [
    "favorite_fruits=[\"apples\",\"peaches\",\"bananas\",\"oranges\",\"cherries\"]\n",
    "check=\"apples\"\n",
    "if check in favorite_fruits:\n",
    "    print(\"you really like \"+check)\n"
   ]
  },
  {
   "cell_type": "code",
   "execution_count": 23,
   "metadata": {},
   "outputs": [
    {
     "name": "stdout",
     "output_type": "stream",
     "text": [
      "hello aleks\n",
      "hello vlad\n",
      "hello angie\n",
      "hello admin, would you like to see status report\n",
      "hello maint\n"
     ]
    }
   ],
   "source": [
    "usernames=['aleks','vlad','angie','admin','maint']\n",
    "for user in usernames:\n",
    "    if user==\"admin\":\n",
    "        print(\"hello admin, would you like to see status report\")\n",
    "    else:\n",
    "        print('hello '+user)"
   ]
  },
  {
   "cell_type": "code",
   "execution_count": 24,
   "metadata": {},
   "outputs": [
    {
     "name": "stdout",
     "output_type": "stream",
     "text": [
      "the username is available\n",
      "the username is taken\n",
      "the username is taken\n",
      "the username is available\n",
      "the username is available\n"
     ]
    }
   ],
   "source": [
    "current_users=['aleks','vlad','angie','john','ross']\n",
    "new_users=['rich','vlad','aleks','sophia','boris']\n",
    "for user in new_users:\n",
    "    if user in current_users:\n",
    "        print('the username is taken')\n",
    "    else:\n",
    "        print('the username is available')"
   ]
  },
  {
   "cell_type": "code",
   "execution_count": 30,
   "metadata": {},
   "outputs": [
    {
     "name": "stdout",
     "output_type": "stream",
     "text": [
      "1st\n",
      "2nd\n",
      "3rd\n",
      "4th\n",
      "5th\n",
      "6th\n",
      "7th\n",
      "8th\n",
      "9th\n"
     ]
    }
   ],
   "source": [
    "numbers=[1,2,3,4,5,6,7,8,9]\n",
    "for number in numbers:\n",
    "    if number==1:\n",
    "        print(\"1\"+'st')\n",
    "    elif number==2:\n",
    "        print (\"2\"+'nd')\n",
    "    elif number==3:\n",
    "        print (\"3\"+'rd')\n",
    "    else:\n",
    "        print (str(number)+'th')"
   ]
  },
  {
   "cell_type": "code",
   "execution_count": null,
   "metadata": {},
   "outputs": [],
   "source": []
  }
 ],
 "metadata": {
  "kernelspec": {
   "display_name": "Python 3",
   "language": "python",
   "name": "python3"
  },
  "language_info": {
   "codemirror_mode": {
    "name": "ipython",
    "version": 3
   },
   "file_extension": ".py",
   "mimetype": "text/x-python",
   "name": "python",
   "nbconvert_exporter": "python",
   "pygments_lexer": "ipython3",
   "version": "3.7.6"
  }
 },
 "nbformat": 4,
 "nbformat_minor": 4
}
